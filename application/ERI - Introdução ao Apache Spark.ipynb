{
 "cells": [
  {
   "cell_type": "markdown",
   "id": "8b902c71",
   "metadata": {},
   "source": [
    "## Sejam Bem-Vindos ao curso <br> \"Introdução ao Processamento Paralelo e Distribuído Utilizando o Apache Spark\"\n",
    "\n",
    "Instrutor: M.Sc. Fernando Pereira Gonçalves de Sá (fpgdesa@gmail.com)"
   ]
  },
  {
   "cell_type": "markdown",
   "id": "7a47b089",
   "metadata": {},
   "source": [
    "#### Trabalharemos com o Spark versão 3.2.0 <br>\n",
    "#### Todas as bibliotecas que necessitaremos já estão instaladas e configuradas em nosso container Docker"
   ]
  },
  {
   "cell_type": "code",
   "execution_count": 1,
   "id": "238727ef",
   "metadata": {},
   "outputs": [
    {
     "name": "stdout",
     "output_type": "stream",
     "text": [
      "WARNING: An illegal reflective access operation has occurred\n",
      "WARNING: Illegal reflective access by org.apache.spark.unsafe.Platform (file:/usr/local/spark-3.2.0-bin-hadoop3.2/jars/spark-unsafe_2.12-3.2.0.jar) to constructor java.nio.DirectByteBuffer(long,int)\n",
      "WARNING: Please consider reporting this to the maintainers of org.apache.spark.unsafe.Platform\n",
      "WARNING: Use --illegal-access=warn to enable warnings of further illegal reflective access operations\n",
      "WARNING: All illegal access operations will be denied in a future release\n",
      "Welcome to\n",
      "      ____              __\n",
      "     / __/__  ___ _____/ /__\n",
      "    _\\ \\/ _ \\/ _ `/ __/  '_/\n",
      "   /___/ .__/\\_,_/_/ /_/\\_\\   version 3.2.0\n",
      "      /_/\n",
      "                        \n",
      "Using Scala version 2.12.15, OpenJDK 64-Bit Server VM, 11.0.11\n",
      "Branch HEAD\n",
      "Compiled by user ubuntu on 2021-10-06T12:46:30Z\n",
      "Revision 5d45a415f3a29898d92380380cfd82bfc7f579ea\n",
      "Url https://github.com/apache/spark\n",
      "Type --help for more information.\n"
     ]
    }
   ],
   "source": [
    "! pyspark --version\n"
   ]
  },
  {
   "cell_type": "code",
   "execution_count": null,
   "id": "82557e5e",
   "metadata": {},
   "outputs": [],
   "source": [
    "! mkdir files"
   ]
  },
  {
   "cell_type": "code",
   "execution_count": 1,
   "id": "198435e6",
   "metadata": {
    "scrolled": false
   },
   "outputs": [
    {
     "name": "stderr",
     "output_type": "stream",
     "text": [
      "Downloading...\n",
      "From: https://drive.google.com/uc?id=1uefwk3fhAhCWywoiozyJ7h0iLo0yMIpK\n",
      "To: /application/application/files/dados_covid.csv\n",
      "100% 31.5M/31.5M [00:02<00:00, 12.2MB/s]\n"
     ]
    }
   ],
   "source": [
    "# Instalando gdown para realizar download a partir do Google Drive\n",
    "\n",
    "# ! pip install gdown   # retire o comentário\n",
    "import gdown\n",
    "\n",
    "url_covid = 'https://drive.google.com/uc?id=1uefwk3fhAhCWywoiozyJ7h0iLo0yMIpK'\n",
    "output_covid = './files/dados_covid.csv' \n",
    "\n",
    "# Baixando dados sobre a Covid na cidade do Rio de Janeiro\n",
    "path_dados_covid = gdown.download(url_covid, output_covid, quiet=False)"
   ]
  },
  {
   "cell_type": "code",
   "execution_count": 2,
   "id": "561ae24a",
   "metadata": {},
   "outputs": [
    {
     "name": "stdout",
     "output_type": "stream",
     "text": [
      "dados_covid.csv\r\n"
     ]
    }
   ],
   "source": [
    "! cd files && ls "
   ]
  },
  {
   "cell_type": "markdown",
   "id": "3fb0e4bc",
   "metadata": {},
   "source": [
    "### Vamos conhecer duas formas de manipular o conjunto de dados\n",
    "\n",
    "<ul>\n",
    "    <li>Utilizando o DataFrame;</ui>\n",
    "    <li>A partir da construção de RDDs</ui>\n",
    " </ul>"
   ]
  },
  {
   "cell_type": "code",
   "execution_count": 3,
   "id": "03f6a83e",
   "metadata": {},
   "outputs": [
    {
     "name": "stderr",
     "output_type": "stream",
     "text": [
      "WARNING: An illegal reflective access operation has occurred\n",
      "WARNING: Illegal reflective access by org.apache.spark.unsafe.Platform (file:/usr/local/spark-3.2.0-bin-hadoop3.2/jars/spark-unsafe_2.12-3.2.0.jar) to constructor java.nio.DirectByteBuffer(long,int)\n",
      "WARNING: Please consider reporting this to the maintainers of org.apache.spark.unsafe.Platform\n",
      "WARNING: Use --illegal-access=warn to enable warnings of further illegal reflective access operations\n",
      "WARNING: All illegal access operations will be denied in a future release\n",
      "Using Spark's default log4j profile: org/apache/spark/log4j-defaults.properties\n",
      "Setting default log level to \"WARN\".\n",
      "To adjust logging level use sc.setLogLevel(newLevel). For SparkR, use setLogLevel(newLevel).\n",
      "21/11/24 14:08:13 WARN NativeCodeLoader: Unable to load native-hadoop library for your platform... using builtin-java classes where applicable\n"
     ]
    }
   ],
   "source": [
    "from pyspark.sql import SparkSession\n",
    "#from pyspark.sql import Row\n",
    "\n",
    "# Primeiro criamos uma sessão do Spark\n",
    "spark = (SparkSession\n",
    "    .builder\n",
    "    .appName(\"CovidApp\")\n",
    "    .getOrCreate())\n"
   ]
  },
  {
   "cell_type": "code",
   "execution_count": 4,
   "id": "c5818cbf",
   "metadata": {},
   "outputs": [],
   "source": [
    "# Pela abordagem direta\n",
    "schema = \"\"\"`CD_GEOCODB` STRING, \n",
    "            `NM_BAIRRO` STRING, \n",
    "            `dt_notific` STRING, \n",
    "            `sexo` STRING,\n",
    "            `faixa_etaria` STRING, \n",
    "            `evolucao` STRING, \n",
    "            `raca_cor` STRING, \n",
    "            `data_atualizacao` STRING\"\"\"\n",
    "\n",
    "\n",
    "df_dados_covid = spark.read.format(\"csv\").\\\n",
    "              option(\"header\", \"true\").\\\n",
    "              option(\"inferSchema\", \"false\").\\\n",
    "              option(\"delimiter\",';').\\\n",
    "              schema(schema).\\\n",
    "              load(path_dados_covid)\n"
   ]
  },
  {
   "cell_type": "code",
   "execution_count": 5,
   "id": "ab2659c3",
   "metadata": {},
   "outputs": [
    {
     "name": "stdout",
     "output_type": "stream",
     "text": [
      "root\n",
      " |-- CD_GEOCODB: string (nullable = true)\n",
      " |-- NM_BAIRRO: string (nullable = true)\n",
      " |-- dt_notific: string (nullable = true)\n",
      " |-- sexo: string (nullable = true)\n",
      " |-- faixa_etaria: string (nullable = true)\n",
      " |-- evolucao: string (nullable = true)\n",
      " |-- raca_cor: string (nullable = true)\n",
      " |-- data_atualizacao: string (nullable = true)\n",
      "\n"
     ]
    }
   ],
   "source": [
    "df_dados_covid.printSchema()"
   ]
  },
  {
   "cell_type": "code",
   "execution_count": 8,
   "id": "a7c7d8aa",
   "metadata": {},
   "outputs": [
    {
     "name": "stdout",
     "output_type": "stream",
     "text": [
      "+------------+--------------------+----------+----+------------+----------+--------+----------------+\n",
      "|  CD_GEOCODB|           NM_BAIRRO|dt_notific|sexo|faixa_etaria|  evolucao|raca_cor|data_atualizacao|\n",
      "+------------+--------------------+----------+----+------------+----------+--------+----------------+\n",
      "|330455705105|              COSMOS|06-11-2020|   F|  De 50 a 59|     Óbito|   Parda|      08-09-2021|\n",
      "|330455705027|           MANGUEIRA|10-14-2020|   F|  De 40 a 49|Recuperado|Ignorado|      08-09-2021|\n",
      "|330455705058|           ENCANTADO|12-04-2020|   F|  De 70 a 79|     Óbito|Ignorado|      08-09-2021|\n",
      "|330455705076|       ROCHA MIRANDA|11-30-2020|   F|  De 90 a 99|Recuperado|   Preta|      08-09-2021|\n",
      "|330455705135|RECREIO DOS BANDE...|11-30-2020|   M|  De 70 a 79|     Óbito|Ignorado|      08-09-2021|\n",
      "|330455705079|       BENTO RIBEIRO|12-10-2020|   M|  De 60 a 69|Recuperado|Ignorado|      08-09-2021|\n",
      "|330455705159|       VASCO DA GAMA|12-07-2020|   M|  De 70 a 79|Recuperado|   Preta|      08-09-2021|\n",
      "|330455705073|           MADUREIRA|12-15-2020|   F|  De 70 a 79|     Óbito|  Branca|      08-09-2021|\n",
      "|330455705005|             CATUMBI|12-27-2020|   M|  De 70 a 79|     Óbito|  Branca|      08-09-2021|\n",
      "|330455705010|              GLÓRIA|12-28-2020|   F|  De 60 a 69|     Óbito|Ignorado|      08-09-2021|\n",
      "|330455705108|            SEPETIBA|12-14-2020|   F|  De 60 a 69|Recuperado|   Parda|      08-09-2021|\n",
      "|330455705002|              GAMBOA|12-20-2020|   F|  De 50 a 59|     Óbito|  Branca|      08-09-2021|\n",
      "|330455705108|            SEPETIBA|12-28-2020|   F|  De 40 a 49|Recuperado|Ignorado|      08-09-2021|\n",
      "|330455705108|            SEPETIBA|12-19-2020|   M|    De 0 a 9|Recuperado|   Preta|      08-09-2021|\n",
      "|330455705105|              COSMOS|12-16-2020|   M|  De 30 a 39|Recuperado|   Parda|      08-09-2021|\n",
      "|330455705019|             IPANEMA|12-30-2020|   F|  De 70 a 79|     Óbito|Ignorado|      08-09-2021|\n",
      "|330455705106|           PACIÊNCIA|12-21-2020|   F|  De 70 a 79|     Óbito|   Parda|      08-09-2021|\n",
      "|330455705102|        CAMPO GRANDE|12-18-2020|   F|  De 30 a 39|Recuperado|  Branca|      08-09-2021|\n",
      "|330455705102|        CAMPO GRANDE|12-21-2020|   F|  De 70 a 79|     Óbito|   Parda|      08-09-2021|\n",
      "|330455705102|        CAMPO GRANDE|12-29-2020|   M|  De 50 a 59|Recuperado|  Branca|      08-09-2021|\n",
      "+------------+--------------------+----------+----+------------+----------+--------+----------------+\n",
      "only showing top 20 rows\n",
      "\n"
     ]
    }
   ],
   "source": [
    "df_dados_covid.show()"
   ]
  },
  {
   "cell_type": "code",
   "execution_count": 9,
   "id": "148289f6",
   "metadata": {},
   "outputs": [
    {
     "name": "stderr",
     "output_type": "stream",
     "text": [
      "                                                                                \r"
     ]
    }
   ],
   "source": [
    "# trabalhando com RDD puro\n",
    "\n",
    "rdd_covid = spark.sparkContext.textFile(path_dados_covid)\n",
    "\n",
    "header = rdd_covid.first()\n",
    "rdd_dados_covid = rdd_covid.filter(lambda t: t != header).map(lambda t: t.split(\";\"))#.map(lambda r: Row(int(r[0]),r[1], r[2], r[3], r[4], r[5], r[6], r[7]))\n",
    "\n",
    " "
   ]
  },
  {
   "cell_type": "code",
   "execution_count": 11,
   "id": "f31cfce8",
   "metadata": {
    "scrolled": false
   },
   "outputs": [
    {
     "data": {
      "text/plain": [
       "['CD_GEOCODB;NM_BAIRRO;dt_notific;sexo;faixa_etaria;evolucao;raca_cor;data_atualizacao',\n",
       " '330455705105;COSMOS;06-11-2020;F;De 50 a 59;Óbito;Parda;08-09-2021',\n",
       " '330455705027;MANGUEIRA;10-14-2020;F;De 40 a 49;Recuperado;Ignorado;08-09-2021',\n",
       " '330455705058;ENCANTADO;12-04-2020;F;De 70 a 79;Óbito;Ignorado;08-09-2021',\n",
       " '330455705076;ROCHA MIRANDA;11-30-2020;F;De 90 a 99;Recuperado;Preta;08-09-2021']"
      ]
     },
     "execution_count": 11,
     "metadata": {},
     "output_type": "execute_result"
    }
   ],
   "source": [
    "rdd_covid.take(5)  # collect é uma operação custosa!"
   ]
  },
  {
   "cell_type": "markdown",
   "id": "9f3073f1",
   "metadata": {},
   "source": [
    "## Realizando algumas análises"
   ]
  },
  {
   "cell_type": "markdown",
   "id": "00645e0e",
   "metadata": {},
   "source": [
    "### Total de categorias de evolução por bairro"
   ]
  },
  {
   "cell_type": "markdown",
   "id": "3bc8315b",
   "metadata": {},
   "source": [
    "O Painel Rio divide os casos de COVID-19 registrados em diferentes categorias de evolução, são eles:\n",
    "\n",
    "<ul>\n",
    "    <li>Óbito</li>\n",
    "    <li>Recuperado</li>\n",
    "    <li>Ativo </li>\n",
    " </ul>"
   ]
  },
  {
   "cell_type": "code",
   "execution_count": 12,
   "id": "d7e25e6c",
   "metadata": {},
   "outputs": [],
   "source": [
    "from pyspark.sql.functions import *"
   ]
  },
  {
   "cell_type": "code",
   "execution_count": 14,
   "id": "a3100a83",
   "metadata": {},
   "outputs": [
    {
     "name": "stderr",
     "output_type": "stream",
     "text": [
      "                                                                                \r"
     ]
    },
    {
     "data": {
      "text/plain": [
       "410685"
      ]
     },
     "execution_count": 14,
     "metadata": {},
     "output_type": "execute_result"
    }
   ],
   "source": [
    "df_dados_covid.count()"
   ]
  },
  {
   "cell_type": "code",
   "execution_count": 21,
   "id": "82808251",
   "metadata": {
    "scrolled": true
   },
   "outputs": [
    {
     "name": "stderr",
     "output_type": "stream",
     "text": [
      "                                                                                \r"
     ]
    }
   ],
   "source": [
    "# Vamos obter uma lista distinta de bairros\n",
    "                        #----------------- transformação ------------------------------- # ação\n",
    "bairros = df_dados_covid.select(\"NM_BAIRRO\").distinct().rdd.map(lambda t: t['NM_BAIRRO']).collect()"
   ]
  },
  {
   "cell_type": "code",
   "execution_count": 24,
   "id": "a90423f3",
   "metadata": {
    "scrolled": false
   },
   "outputs": [
    {
     "data": {
      "text/plain": [
       "161"
      ]
     },
     "execution_count": 24,
     "metadata": {},
     "output_type": "execute_result"
    }
   ],
   "source": [
    "len(bairros)"
   ]
  },
  {
   "cell_type": "code",
   "execution_count": 23,
   "id": "fdd4956b",
   "metadata": {
    "scrolled": true
   },
   "outputs": [
    {
     "data": {
      "text/plain": [
       "['MARÉ',\n",
       " 'LEME',\n",
       " 'COPACABANA',\n",
       " 'HONÓRIO GURGEL',\n",
       " 'CASCADURA',\n",
       " 'SENADOR VASCONCELOS',\n",
       " 'PARQUE COLUMBIA',\n",
       " 'RIBEIRA',\n",
       " 'COMPLEXO DO ALEMÃO',\n",
       " 'HIGIENÓPOLIS',\n",
       " 'TODOS OS SANTOS',\n",
       " 'FREGUESIA (ILHA DO GOVERNADOR)',\n",
       " 'RIACHUELO',\n",
       " 'JARDIM CARIOCA',\n",
       " 'OSWALDO CRUZ',\n",
       " 'DEL CASTILHO',\n",
       " 'PARADA DE LUCAS',\n",
       " 'PIEDADE',\n",
       " 'ZUMBI',\n",
       " 'LAGOA',\n",
       " 'CACHAMBI',\n",
       " 'MANGUEIRA',\n",
       " 'BENTO RIBEIRO',\n",
       " 'PAVUNA',\n",
       " 'PITANGUEIRAS',\n",
       " 'GERICINÓ',\n",
       " 'CORDOVIL',\n",
       " 'VISTA ALEGRE',\n",
       " 'PARQUE ANCHIETA',\n",
       " 'ENGENHEIRO LEAL',\n",
       " 'SANTO CRISTO',\n",
       " 'VILA ISABEL',\n",
       " 'GARDÊNIA AZUL',\n",
       " 'GRAJAÚ',\n",
       " 'ÁGUA SANTA',\n",
       " 'VARGEM GRANDE',\n",
       " 'RAMOS',\n",
       " 'TAUÁ',\n",
       " 'PRAÇA SECA',\n",
       " 'ALTO DA BOA VISTA',\n",
       " 'CACUIA',\n",
       " 'LINS DE VASCONCELOS',\n",
       " 'HUMAITÁ',\n",
       " 'PRAIA DA BANDEIRA',\n",
       " 'GUARATIBA',\n",
       " 'CIDADE DE DEUS',\n",
       " 'RICARDO DE ALBUQUERQUE',\n",
       " 'MARACANÃ',\n",
       " 'VIDIGAL',\n",
       " 'VILA MILITAR',\n",
       " 'SENADOR CAMARÁ',\n",
       " 'SANTA CRUZ',\n",
       " 'COELHO NETO',\n",
       " 'VICENTE DE CARVALHO',\n",
       " 'SAMPAIO',\n",
       " 'INHOAIBA',\n",
       " 'VASCO DA GAMA',\n",
       " 'JARDIM BOTÂNICO',\n",
       " 'ENCANTADO',\n",
       " 'TIJUCA',\n",
       " 'ANCHIETA',\n",
       " 'VAZ LOBO',\n",
       " 'LARANJEIRAS',\n",
       " 'ITANHANGÁ',\n",
       " 'PORTUGUESA',\n",
       " 'GALEÃO',\n",
       " 'ENGENHO DA RAINHA',\n",
       " 'VILA DA PENHA',\n",
       " 'BARRA DA TIJUCA',\n",
       " 'BANCÁRIOS',\n",
       " 'JARDIM SULACAP',\n",
       " 'ROCHA MIRANDA',\n",
       " 'CAMPO DOS AFONSOS',\n",
       " 'CIDADE NOVA',\n",
       " 'VARGEM PEQUENA',\n",
       " 'CAMORIM',\n",
       " 'JARDIM GUANABARA',\n",
       " 'SÃO CONRADO',\n",
       " 'CAMPO GRANDE',\n",
       " 'SÃO FRANCISCO XAVIER',\n",
       " 'BARRA DE GUARATIBA',\n",
       " 'QUINTINO BOCAIUVA',\n",
       " 'COLÉGIO',\n",
       " 'ENGENHO NOVO',\n",
       " 'PENHA CIRCULAR',\n",
       " 'JACAREPAGUÁ',\n",
       " 'TANQUE',\n",
       " 'TURIAÇU',\n",
       " 'ESTÁCIO',\n",
       " 'CATUMBI',\n",
       " 'BOTAFOGO',\n",
       " 'MARECHAL HERMES',\n",
       " 'ACARI',\n",
       " 'PENHA',\n",
       " 'CATETE',\n",
       " 'PAQUETÁ',\n",
       " 'COCOTÁ',\n",
       " 'PADRE MIGUEL',\n",
       " 'IGNORADO',\n",
       " 'CAJU',\n",
       " 'GUADALUPE',\n",
       " 'CAMPINHO',\n",
       " 'VILA KOSMOS',\n",
       " 'CAVALCANTE',\n",
       " 'PACIÊNCIA',\n",
       " 'GÁVEA',\n",
       " 'SANTÍSSIMO',\n",
       " 'URCA',\n",
       " 'OLARIA',\n",
       " 'IPANEMA',\n",
       " 'COSTA BARROS',\n",
       " 'CIDADE UNIVERSITÁRIA',\n",
       " 'PILARES',\n",
       " 'ABOLIÇÃO',\n",
       " 'TOMÁS COELHO',\n",
       " 'RIO COMPRIDO',\n",
       " 'SEPETIBA',\n",
       " 'GLÓRIA',\n",
       " 'BONSUCESSO',\n",
       " 'RECREIO DOS BANDEIRANTES',\n",
       " 'MANGUINHOS',\n",
       " 'CENTRO',\n",
       " 'TAQUARA',\n",
       " 'JACARÉZINHO',\n",
       " 'ANDARAÍ',\n",
       " 'JARDIM AMÉRICA',\n",
       " 'DEODORO',\n",
       " 'COSME VELHO',\n",
       " 'LEBLON',\n",
       " 'SANTA TERESA',\n",
       " 'COSMOS',\n",
       " 'SÃO CRISTOVÃO',\n",
       " 'PRAÇA DA BANDEIRA',\n",
       " 'MADUREIRA',\n",
       " 'FLAMENGO',\n",
       " 'GRUMARI',\n",
       " 'BARROS FILHO',\n",
       " 'IRAJÁ',\n",
       " 'INHAÚMA',\n",
       " 'PECHINCHA',\n",
       " 'REALENGO',\n",
       " 'ENGENHO DE DENTRO',\n",
       " 'ROCINHA',\n",
       " 'GAMBOA',\n",
       " 'MAGALHÃES BASTOS',\n",
       " 'ROCHA',\n",
       " 'CURICICA',\n",
       " 'VILA VALQUEIRE',\n",
       " 'JOÁ',\n",
       " 'MARIA DA GRAÇA',\n",
       " 'BRÁS DE PINA',\n",
       " 'FREGUESIA (JACAREPAGUÁ)',\n",
       " 'PEDRA DE GUARATIBA',\n",
       " 'JACARÉ',\n",
       " 'BANGU',\n",
       " 'ANIL',\n",
       " 'MÉIER',\n",
       " 'SAÚDE',\n",
       " 'BENFICA',\n",
       " 'VIGÁRIO GERAL',\n",
       " 'MONERO']"
      ]
     },
     "execution_count": 23,
     "metadata": {},
     "output_type": "execute_result"
    }
   ],
   "source": [
    "bairros"
   ]
  },
  {
   "cell_type": "code",
   "execution_count": 42,
   "id": "4ba1e3d2",
   "metadata": {},
   "outputs": [
    {
     "name": "stderr",
     "output_type": "stream",
     "text": [
      "\r",
      "[Stage 42:==============>                                           (1 + 3) / 4]\r"
     ]
    },
    {
     "name": "stdout",
     "output_type": "stream",
     "text": [
      "+------------------+--------+---------------+\n",
      "|         NM_BAIRRO|evolucao|Total de Óbitos|\n",
      "+------------------+--------+---------------+\n",
      "|             PENHA|   Óbito|            301|\n",
      "|            MONERO|   Óbito|             39|\n",
      "|     VASCO DA GAMA|   Óbito|             58|\n",
      "|         GUADALUPE|   Óbito|            258|\n",
      "|            COSMOS|   Óbito|            299|\n",
      "| PRAIA DA BANDEIRA|   Óbito|             24|\n",
      "|            GLÓRIA|   Óbito|             60|\n",
      "|            OLARIA|   Óbito|            311|\n",
      "|BARRA DE GUARATIBA|   Óbito|             25|\n",
      "|            TIJUCA|   Óbito|            981|\n",
      "|       VILA KOSMOS|   Óbito|             82|\n",
      "|     VARGEM GRANDE|   Óbito|             55|\n",
      "|            GALEÃO|   Óbito|             66|\n",
      "|    VARGEM PEQUENA|   Óbito|             79|\n",
      "|              TAUÁ|   Óbito|            119|\n",
      "|      DEL CASTILHO|   Óbito|            105|\n",
      "|     BENTO RIBEIRO|   Óbito|            250|\n",
      "|            COCOTÁ|   Óbito|             24|\n",
      "|           PIEDADE|   Óbito|            235|\n",
      "|           TAQUARA|   Óbito|            599|\n",
      "+------------------+--------+---------------+\n",
      "only showing top 20 rows\n",
      "\n"
     ]
    },
    {
     "name": "stderr",
     "output_type": "stream",
     "text": [
      "\r",
      "                                                                                \r"
     ]
    }
   ],
   "source": [
    "# Utilizando Built-in Functions do DataFrame\n",
    "\n",
    "   \n",
    "df_dados_covid.select(\"NM_BAIRRO\", \"evolucao\").\\\n",
    "               where(col(\"evolucao\") == \"Óbito\").\\\n",
    "               groupBy(\"NM_BAIRRO\", \"evolucao\").\\\n",
    "               agg(count(\"*\").alias(\"Total de Óbitos\")).\\\n",
    "               show()"
   ]
  },
  {
   "cell_type": "code",
   "execution_count": 40,
   "id": "cfbf5292",
   "metadata": {},
   "outputs": [],
   "source": [
    "# Usando processamento SQL\n",
    "\n",
    "# criamos a view da tabela\n",
    "df_dados_covid.createOrReplaceTempView(\"COVID_tbl\")"
   ]
  },
  {
   "cell_type": "code",
   "execution_count": 41,
   "id": "95341781",
   "metadata": {},
   "outputs": [
    {
     "name": "stderr",
     "output_type": "stream",
     "text": [
      "[Stage 39:=============================>                            (2 + 2) / 4]\r"
     ]
    },
    {
     "name": "stdout",
     "output_type": "stream",
     "text": [
      "+------------------+--------+---------------+\n",
      "|         NM_BAIRRO|evolucao|Total de Óbitos|\n",
      "+------------------+--------+---------------+\n",
      "|             PENHA|   Óbito|            301|\n",
      "|            MONERO|   Óbito|             39|\n",
      "|     VASCO DA GAMA|   Óbito|             58|\n",
      "|         GUADALUPE|   Óbito|            258|\n",
      "|            COSMOS|   Óbito|            299|\n",
      "| PRAIA DA BANDEIRA|   Óbito|             24|\n",
      "|            GLÓRIA|   Óbito|             60|\n",
      "|            OLARIA|   Óbito|            311|\n",
      "|BARRA DE GUARATIBA|   Óbito|             25|\n",
      "|            TIJUCA|   Óbito|            981|\n",
      "|       VILA KOSMOS|   Óbito|             82|\n",
      "|     VARGEM GRANDE|   Óbito|             55|\n",
      "|            GALEÃO|   Óbito|             66|\n",
      "|    VARGEM PEQUENA|   Óbito|             79|\n",
      "|              TAUÁ|   Óbito|            119|\n",
      "|      DEL CASTILHO|   Óbito|            105|\n",
      "|     BENTO RIBEIRO|   Óbito|            250|\n",
      "|            COCOTÁ|   Óbito|             24|\n",
      "|           PIEDADE|   Óbito|            235|\n",
      "|           TAQUARA|   Óbito|            599|\n",
      "+------------------+--------+---------------+\n",
      "only showing top 20 rows\n",
      "\n"
     ]
    },
    {
     "name": "stderr",
     "output_type": "stream",
     "text": [
      "\r",
      "                                                                                \r"
     ]
    }
   ],
   "source": [
    "# vamos obter o mesmo resultado anterior, porém utilizando SQL\n",
    "\n",
    "spark.sql(\"\"\"SELECT NM_BAIRRO, evolucao, COUNT(*) as `Total de Óbitos`\n",
    "             FROM COVID_tbl\n",
    "             WHERE evolucao == 'Óbito'\n",
    "             GROUP BY NM_BAIRRO, evolucao\n",
    "          \"\"\").show()"
   ]
  },
  {
   "cell_type": "code",
   "execution_count": 45,
   "id": "ae5e881c",
   "metadata": {
    "scrolled": false
   },
   "outputs": [
    {
     "name": "stderr",
     "output_type": "stream",
     "text": [
      "                                                                                \r"
     ]
    },
    {
     "data": {
      "text/plain": [
       "[('COSMOS', 299),\n",
       " ('ENCANTADO', 72),\n",
       " ('CATUMBI', 70),\n",
       " ('GLÓRIA', 60),\n",
       " ('GAMBOA', 43),\n",
       " ('PACIÊNCIA', 419),\n",
       " ('CAMPO GRANDE', 1764),\n",
       " ('SENADOR CAMARÁ', 417),\n",
       " ('SANTA CRUZ', 939),\n",
       " ('JACAREPAGUÁ', 553),\n",
       " ('REALENGO', 932),\n",
       " ('BANGU', 1228),\n",
       " ('BRÁS DE PINA', 284),\n",
       " ('MÉIER', 313),\n",
       " ('LINS DE VASCONCELOS', 161),\n",
       " ('RAMOS', 201),\n",
       " ('VILA ISABEL', 420),\n",
       " ('CENTRO', 309),\n",
       " ('PRAÇA SECA', 356),\n",
       " ('BARRA DA TIJUCA', 662),\n",
       " ('FREGUESIA (JACAREPAGUÁ)', 403),\n",
       " ('DEL CASTILHO', 105),\n",
       " ('CASCADURA', 151),\n",
       " ('ENGENHO NOVO', 222),\n",
       " ('ABOLIÇÃO', 85),\n",
       " ('SÃO CONRADO', 48),\n",
       " ('VIGÁRIO GERAL', 120),\n",
       " ('ENGENHO DA RAINHA', 129),\n",
       " ('PORTUGUESA', 117),\n",
       " ('PITANGUEIRAS', 43),\n",
       " ('INHOAIBA', 273),\n",
       " ('VILA DA PENHA', 161),\n",
       " ('RIO COMPRIDO', 234),\n",
       " ('LAGOA', 89),\n",
       " ('COSME VELHO', 31),\n",
       " ('OLARIA', 311),\n",
       " ('CIDADE DE DEUS', 170),\n",
       " ('TANQUE', 198),\n",
       " ('COLÉGIO', 141),\n",
       " ('JARDIM SULACAP', 80),\n",
       " ('VILA VALQUEIRE', 198),\n",
       " ('GARDÊNIA AZUL', 103),\n",
       " ('VARGEM GRANDE', 55),\n",
       " ('JARDIM CARIOCA', 121),\n",
       " ('ROCHA MIRANDA', 245),\n",
       " ('ROCHA', 54),\n",
       " ('MARIA DA GRAÇA', 52),\n",
       " ('LEBLON', 231),\n",
       " ('SEPETIBA', 235),\n",
       " ('CURICICA', 157),\n",
       " ('HIGIENÓPOLIS', 99),\n",
       " ('DEODORO', 56),\n",
       " ('PARADA DE LUCAS', 102),\n",
       " ('ACARI', 122),\n",
       " ('JARDIM AMÉRICA', 140),\n",
       " ('MANGUINHOS', 110),\n",
       " ('INHAÚMA', 237),\n",
       " ('VIDIGAL', 54),\n",
       " ('ANCHIETA', 230),\n",
       " ('MARACANÃ', 154),\n",
       " ('COMPLEXO DO ALEMÃO', 131),\n",
       " ('VAZ LOBO', 68),\n",
       " ('TURIAÇU', 76),\n",
       " ('SÃO CRISTOVÃO', 144),\n",
       " ('OSWALDO CRUZ', 220),\n",
       " ('JACARÉ', 53),\n",
       " ('SAÚDE', 4),\n",
       " ('TAUÁ', 119),\n",
       " ('ÁGUA SANTA', 33),\n",
       " ('CIDADE NOVA', 25),\n",
       " ('ESTÁCIO', 96),\n",
       " ('CAMORIM', 25),\n",
       " ('HUMAITÁ', 54),\n",
       " ('COSTA BARROS', 105),\n",
       " ('BARROS FILHO', 66),\n",
       " ('CAMPINHO', 60),\n",
       " ('URCA', 28),\n",
       " ('CIDADE UNIVERSITÁRIA', 7),\n",
       " ('VARGEM PEQUENA', 79),\n",
       " ('RIBEIRA', 23),\n",
       " ('GERICINÓ', 2),\n",
       " ('ENGENHEIRO LEAL', 24),\n",
       " ('JOÁ', 6),\n",
       " ('RECREIO DOS BANDEIRANTES', 435),\n",
       " ('MADUREIRA', 275),\n",
       " ('IPANEMA', 234),\n",
       " ('TAQUARA', 599),\n",
       " ('TIJUCA', 981),\n",
       " ('BENTO RIBEIRO', 250),\n",
       " ('GÁVEA', 81),\n",
       " ('COPACABANA', 983),\n",
       " ('BANCÁRIOS', 55),\n",
       " ('PILARES', 152),\n",
       " ('PECHINCHA', 215),\n",
       " ('IGNORADO', 275),\n",
       " ('CORDOVIL', 210),\n",
       " ('BENFICA', 147),\n",
       " ('PARQUE ANCHIETA', 156),\n",
       " ('MAGALHÃES BASTOS', 121),\n",
       " ('PAVUNA', 388),\n",
       " ('PRAIA DA BANDEIRA', 24),\n",
       " ('VISTA ALEGRE', 62),\n",
       " ('PADRE MIGUEL', 365),\n",
       " ('SANTÍSSIMO', 228),\n",
       " ('LARANJEIRAS', 206),\n",
       " ('MONERO', 39),\n",
       " ('JARDIM GUANABARA', 140),\n",
       " ('ANDARAÍ', 219),\n",
       " ('PENHA CIRCULAR', 218),\n",
       " ('CACHAMBI', 233),\n",
       " ('COCOTÁ', 24),\n",
       " ('CAVALCANTE', 83),\n",
       " ('ENGENHO DE DENTRO', 260),\n",
       " ('MARÉ', 331),\n",
       " ('MARECHAL HERMES', 262),\n",
       " ('IRAJÁ', 557),\n",
       " ('TODOS OS SANTOS', 146),\n",
       " ('PEDRA DE GUARATIBA', 58),\n",
       " ('FLAMENGO', 254),\n",
       " ('BOTAFOGO', 344),\n",
       " ('COELHO NETO', 190),\n",
       " ('JARDIM BOTÂNICO', 61),\n",
       " ('VILA KOSMOS', 82),\n",
       " ('VASCO DA GAMA', 58),\n",
       " ('CACUIA', 70),\n",
       " ('GUADALUPE', 258),\n",
       " ('CATETE', 113),\n",
       " ('SANTO CRISTO', 57),\n",
       " ('RIACHUELO', 77),\n",
       " ('ANIL', 151),\n",
       " ('GUARATIBA', 446),\n",
       " ('HONÓRIO GURGEL', 75),\n",
       " ('FREGUESIA (ILHA DO GOVERNADOR)', 90),\n",
       " ('PENHA', 301),\n",
       " ('BONSUCESSO', 182),\n",
       " ('PIEDADE', 235),\n",
       " ('PARQUE COLUMBIA', 33),\n",
       " ('SANTA TERESA', 162),\n",
       " ('SAMPAIO', 48),\n",
       " ('QUINTINO BOCAIUVA', 136),\n",
       " ('VILA MILITAR', 51),\n",
       " ('ITANHANGÁ', 118),\n",
       " ('TOMÁS COELHO', 88),\n",
       " ('GRAJAÚ', 177),\n",
       " ('SÃO FRANCISCO XAVIER', 33),\n",
       " ('SENADOR VASCONCELOS', 146),\n",
       " ('ALTO DA BOA VISTA', 62),\n",
       " ('RICARDO DE ALBUQUERQUE', 110),\n",
       " ('CAMPO DOS AFONSOS', 10),\n",
       " ('LEME', 81),\n",
       " ('PRAÇA DA BANDEIRA', 52),\n",
       " ('VICENTE DE CARVALHO', 119),\n",
       " ('BARRA DE GUARATIBA', 25),\n",
       " ('ROCINHA', 136),\n",
       " ('MANGUEIRA', 52),\n",
       " ('CAJU', 67),\n",
       " ('GALEÃO', 66),\n",
       " ('PAQUETÁ', 13),\n",
       " ('JACARÉZINHO', 99),\n",
       " ('ZUMBI', 10)]"
      ]
     },
     "execution_count": 45,
     "metadata": {},
     "output_type": "execute_result"
    }
   ],
   "source": [
    "# obtenção do total de óbitos utilizando RDD puro\n",
    "\n",
    "rdd_dados_covid.filter(lambda l: l[5] == 'Óbito').map(lambda l: (l[1], 1)).reduceByKey(lambda a,b : a+b).collect()"
   ]
  },
  {
   "cell_type": "markdown",
   "id": "babdc0af",
   "metadata": {},
   "source": [
    "## Exercícío:\n",
    "\n",
    "(1) Aplique o mesmo raciocínio de agregação para as demais categorias de evolução de pacientes COVID-19 <br>\n",
    "(2) Experimente as três abordagens"
   ]
  },
  {
   "cell_type": "markdown",
   "id": "b1098b68",
   "metadata": {},
   "source": [
    "### Cálculo de Mortalidade Segundo o Gênero"
   ]
  },
  {
   "cell_type": "code",
   "execution_count": 170,
   "id": "0392b33f",
   "metadata": {},
   "outputs": [
    {
     "name": "stdout",
     "output_type": "stream",
     "text": [
      "+---------+----+--------+---------------+-----------------+\n",
      "|NM_BAIRRO|sexo|evolucao|Total de Óbitos|    Mortalidade %|\n",
      "+---------+----+--------+---------------+-----------------+\n",
      "|   COSMOS|   M|   Óbito|            158|52.84280936454849|\n",
      "|   COSMOS|   F|   Óbito|            141|47.15719063545151|\n",
      "+---------+----+--------+---------------+-----------------+\n",
      "\n"
     ]
    }
   ],
   "source": [
    "# Utilizando Built-in Functions do DataFrame\n",
    "\n",
    "df_dados_covid.select(\"NM_BAIRRO\",\"sexo\", \"evolucao\").\\\n",
    "               where(col(\"evolucao\") == \"Óbito\").where(col(\"NM_BAIRRO\") == \"COSMOS\").\\\n",
    "               groupBy(\"NM_BAIRRO\",\"sexo\", \"evolucao\").\\\n",
    "               agg(count(\"*\").alias(\"Total de Óbitos\")).\\\n",
    "               withColumn(\"Mortalidade %\", 100*(col(\"`Total de Óbitos`\")/ df_dados_covid.filter(col(\"NM_BAIRRO\")==\"COSMOS\").filter(col(\"evolucao\") == \"Óbito\").count()) ).\\\n",
    "               show()"
   ]
  },
  {
   "cell_type": "markdown",
   "id": "ace46527",
   "metadata": {},
   "source": [
    "## Exercícío:\n",
    "\n",
    "(1) Experimente encontrar outras relações, como taxa de curados por bairro, sexo e evolução"
   ]
  },
  {
   "cell_type": "markdown",
   "id": "010b5c5c",
   "metadata": {},
   "source": [
    "## Exercício: <br>\n",
    "\n",
    "(1) Realize operações sobre o arquivo <i>sales.csv</i>"
   ]
  },
  {
   "cell_type": "code",
   "execution_count": 46,
   "id": "dd9795b8",
   "metadata": {},
   "outputs": [
    {
     "name": "stderr",
     "output_type": "stream",
     "text": [
      "Downloading...\n",
      "From: https://drive.google.com/uc?id=1g1tZmCmwxI8NtkHFJEse0IohwFbEWf52\n",
      "To: /application/application/files/sales.csv\n",
      "100% 204k/204k [00:00<00:00, 1.00MB/s]\n"
     ]
    }
   ],
   "source": [
    "url_sales = 'https://drive.google.com/uc?id=1g1tZmCmwxI8NtkHFJEse0IohwFbEWf52'\n",
    "output_sales = './files/sales.csv' \n",
    "\n",
    "# Baixando dados sobre vendas de uma empresa de informática\n",
    "path_dados_sales= gdown.download(url_sales, output_sales, quiet=False)"
   ]
  },
  {
   "cell_type": "code",
   "execution_count": 47,
   "id": "bdda3f36",
   "metadata": {},
   "outputs": [
    {
     "name": "stdout",
     "output_type": "stream",
     "text": [
      "dados_covid.csv  sales.csv\r\n"
     ]
    }
   ],
   "source": [
    "! cd files && ls "
   ]
  },
  {
   "cell_type": "code",
   "execution_count": 50,
   "id": "0e203113",
   "metadata": {},
   "outputs": [],
   "source": [
    "df_vendas = spark.read.format(\"csv\").\\\n",
    "              option(\"header\", \"true\").\\\n",
    "              option(\"inferSchema\", \"true\").\\\n",
    "              load(path_dados_sales)"
   ]
  },
  {
   "cell_type": "code",
   "execution_count": 51,
   "id": "10ae3658",
   "metadata": {},
   "outputs": [
    {
     "name": "stdout",
     "output_type": "stream",
     "text": [
      "+--------------------+\n",
      "|     <!DOCTYPE html>|\n",
      "+--------------------+\n",
      "|<html lang=\"en\" d...|\n",
      "|              <head>|\n",
      "|    <meta charset...|\n",
      "|  <link rel=\"dns-...|\n",
      "|  <link rel=\"dns-...|\n",
      "|  <link rel=\"dns-...|\n",
      "|  <link rel=\"dns-...|\n",
      "|  <link rel=\"prec...|\n",
      "|  <link rel=\"prec...|\n",
      "|  <link crossorig...|\n",
      "|  <link crossorig...|\n",
      "|    <link crossor...|\n",
      "|    <link crossor...|\n",
      "|    <link crossor...|\n",
      "|  <script crossor...|\n",
      "|    <script cross...|\n",
      "|    <script cross...|\n",
      "|  <script crossor...|\n",
      "|    <script cross...|\n",
      "|    <script cross...|\n",
      "+--------------------+\n",
      "only showing top 20 rows\n",
      "\n"
     ]
    }
   ],
   "source": [
    "df_vendas.show()"
   ]
  },
  {
   "cell_type": "code",
   "execution_count": null,
   "id": "82460c94",
   "metadata": {},
   "outputs": [],
   "source": [
    "group d ata = d f . groupBy ( ’ Company ’ )"
   ]
  },
  {
   "cell_type": "code",
   "execution_count": null,
   "id": "bdbd509a",
   "metadata": {},
   "outputs": [],
   "source": []
  },
  {
   "cell_type": "code",
   "execution_count": null,
   "id": "e0c338a9",
   "metadata": {},
   "outputs": [],
   "source": []
  },
  {
   "cell_type": "code",
   "execution_count": null,
   "id": "f235526c",
   "metadata": {},
   "outputs": [],
   "source": []
  }
 ],
 "metadata": {
  "kernelspec": {
   "display_name": "Python 3 (ipykernel)",
   "language": "python",
   "name": "python3"
  },
  "language_info": {
   "codemirror_mode": {
    "name": "ipython",
    "version": 3
   },
   "file_extension": ".py",
   "mimetype": "text/x-python",
   "name": "python",
   "nbconvert_exporter": "python",
   "pygments_lexer": "ipython3",
   "version": "3.9.7"
  }
 },
 "nbformat": 4,
 "nbformat_minor": 5
}
